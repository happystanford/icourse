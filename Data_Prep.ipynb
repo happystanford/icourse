{
 "cells": [
  {
   "cell_type": "code",
   "execution_count": null,
   "id": "f6255895",
   "metadata": {},
   "outputs": [],
   "source": [
    "import panda as pd\n",
    "from tqdm import tqdm"
   ]
  },
  {
   "cell_type": "markdown",
   "id": "f48d6a67",
   "metadata": {},
   "source": [
    "# Read Data"
   ]
  },
  {
   "cell_type": "markdown",
   "id": "29351842",
   "metadata": {},
   "source": [
    "# Heuristic Label"
   ]
  },
  {
   "cell_type": "code",
   "execution_count": null,
   "id": "a26987bb",
   "metadata": {},
   "outputs": [],
   "source": [
    "keywords = {\n",
    "#     \"fun\":[\"very fun\", \"very enjoyable\", \"super fun class\"],\n",
    "#     \"not fun\": [\"not fun at all\"],\n",
    "    \n",
    "    \n",
    "    \"+ difficulty\":[\"very difficult\", \n",
    "                  \"take a lot of time\",\n",
    "                  \"is a LOT of work\", \n",
    "                  \"very challenging\",\n",
    "                  \"start assignments early\", \n",
    "                  \"a lot of work\", \n",
    "                  \"time consuming\",\n",
    "                  \"extremely packed\", \n",
    "                  \"consumes a lot of time\", \n",
    "                  \"huge workload\",\n",
    "                  \"challenging\", \n",
    "                  \"difficult\", \n",
    "                  \"hard\", \n",
    "                  \"struggle\"\n",
    "                 ],\n",
    "    \"- difficult\":[\"not too much work\", \n",
    "                     \"not too challenging\", \n",
    "                     \"not to hard\",\n",
    "                     \"an easy class\",\n",
    "                     \"small workload\", \n",
    "                     \"very chill class\", \n",
    "                     \"super easy course\", \n",
    "                     \"very light workload\",\n",
    "                     \"easy\"\n",
    "#                     ],\n",
    "    \n",
    "    \n",
    "#     \"waste of time\":[\"waste of time\", \"not worth it\"],\n",
    "    \n",
    "    \n",
    "    \"+ instructor\":[\"very supportive\", \n",
    "                  \"very well-taught\", \n",
    "                  \"really supported\", \n",
    "                  \"amazing instructor\", \n",
    "                  \"instructor was very knowledgable\", \n",
    "                  \"very well taught\", \n",
    "                  \"is a very good teacher\", \n",
    "                  \"very well-designed\",\n",
    "                  \"one of the best professors\", \n",
    "                  \"amazing professor\", \n",
    "                  \"the most knowledgeable\"],\n",
    "    \"- instructor\":[\"don't take it with\", \n",
    "                      \"the worst teacher\", \n",
    "                      \"learn on your own\", \n",
    "                      \"figure out on your own\", \n",
    "                      \"feels unorganized\"],\n",
    "    \n",
    "    \n",
    "    \"+ learning\":[\"useful assignments\", \n",
    "                \"learned a lot\",\n",
    "                \"learn a lot\", \n",
    "                \"learn important skills\", \n",
    "                \"extremely useful\",\n",
    "                \"very useful\" \n",
    "                \"a lot of work but worth it\", \n",
    "                \"assignments were useful\", \n",
    "                \"hands on\", \n",
    "                \"accomplished\", \n",
    "                \"accomplishment\", \n",
    "                \"foundation\", \n",
    "                \"learn\", \n",
    "                \"building block\", \n",
    "                \"helpful\", \n",
    "                \"covers\"\n",
    "               ],\n",
    "    \"- learning\":[ \"only at a surface level\", \n",
    "                   \"shallow\", \n",
    "                   \"won't dive into much detail\", \n",
    "                   \"don't learn much\", \n",
    "                   \"introductory\", \n",
    "                   \"boring\"\n",
    "                  ],\n",
    "    \n",
    "    \n",
    "#     \"no background requirement\":[\"nice introduction\", \"nice introductory\", \"very approachable introduction\",\"very accessible\",\"good survey\", \"good intro class\", \"nice intro class\",\n",
    "#                              ],\n",
    "#     \"requires background\":[\"not an intro class\", \"not an introductory class\"],\n",
    "#     \"positive\":[\"take it\", \"would recommend\"],\n",
    "#     \"negative\":[\"don't take it\", \"wouldn't recommend\"]\n",
    "}"
   ]
  },
  {
   "cell_type": "code",
   "execution_count": 3,
   "id": "47f1b3e5",
   "metadata": {},
   "outputs": [
    {
     "ename": "NameError",
     "evalue": "name 'df' is not defined",
     "output_type": "error",
     "traceback": [
      "\u001b[0;31m---------------------------------------------------------------------------\u001b[0m",
      "\u001b[0;31mNameError\u001b[0m                                 Traceback (most recent call last)",
      "\u001b[0;32m/var/folders/v7/h7xvkz7j5q13phqs8lsn1_n40000gn/T/ipykernel_12211/2352418408.py\u001b[0m in \u001b[0;36m<module>\u001b[0;34m\u001b[0m\n\u001b[1;32m      1\u001b[0m \u001b[0;31m# Naive Loop Approach\u001b[0m\u001b[0;34m\u001b[0m\u001b[0;34m\u001b[0m\u001b[0m\n\u001b[0;32m----> 2\u001b[0;31m \u001b[0mnum_rows\u001b[0m \u001b[0;34m=\u001b[0m \u001b[0mdf\u001b[0m\u001b[0;34m.\u001b[0m\u001b[0mshape\u001b[0m\u001b[0;34m[\u001b[0m\u001b[0;36m0\u001b[0m\u001b[0;34m]\u001b[0m\u001b[0;34m\u001b[0m\u001b[0;34m\u001b[0m\u001b[0m\n\u001b[0m\u001b[1;32m      3\u001b[0m \u001b[0mattributes\u001b[0m \u001b[0;34m=\u001b[0m \u001b[0;34m[\u001b[0m\u001b[0;34m\"difficult\"\u001b[0m\u001b[0;34m,\u001b[0m \u001b[0;34m\"instructor\"\u001b[0m\u001b[0;34m,\u001b[0m \u001b[0;34m\"learning\"\u001b[0m\u001b[0;34m]\u001b[0m\u001b[0;34m\u001b[0m\u001b[0;34m\u001b[0m\u001b[0m\n\u001b[1;32m      4\u001b[0m \u001b[0;34m\u001b[0m\u001b[0m\n\u001b[1;32m      5\u001b[0m \u001b[0;32mfor\u001b[0m \u001b[0midx\u001b[0m \u001b[0;32min\u001b[0m \u001b[0mrange\u001b[0m\u001b[0;34m(\u001b[0m\u001b[0mnum_rows\u001b[0m\u001b[0;34m)\u001b[0m\u001b[0;34m:\u001b[0m\u001b[0;34m\u001b[0m\u001b[0;34m\u001b[0m\u001b[0m\n",
      "\u001b[0;31mNameError\u001b[0m: name 'df' is not defined"
     ]
    }
   ],
   "source": [
    "# Naive Loop Approach\n",
    "num_rows = df.shape[0]\n",
    "attributes = [\"difficult\", \"instructor\", \"learning\"]\n",
    "\n",
    "for idx in tqdm(range(num_rows)):\n",
    "    curr_row = df.iloc[idx]\n",
    "    curr_comment = curr_row[\"comment\"]\n",
    "    for curr_attr in attributes:\n",
    "        attr = sum([1 if phrase in curr_comment else 0 for phrase in f\"+ {curr_attr}\"]) \\\n",
    "            - sum([-1 if phrase in curr_comment else 0 for phrase in f\"- {curr_attr}\"])\n",
    "        curr_row[curr_attr] = atrr\n",
    "    df.iloc[idx] = curr_row # maybe we can change row in place instead?"
   ]
  },
  {
   "cell_type": "markdown",
   "id": "7203b455",
   "metadata": {},
   "source": [
    "# Visualize Data"
   ]
  },
  {
   "cell_type": "markdown",
   "id": "c23c8ec8",
   "metadata": {},
   "source": [
    "# Split Data"
   ]
  },
  {
   "cell_type": "markdown",
   "id": "72d4b961",
   "metadata": {},
   "source": [
    "# Train Bert"
   ]
  },
  {
   "cell_type": "markdown",
   "id": "1e8fa094",
   "metadata": {},
   "source": [
    "# Infer"
   ]
  },
  {
   "cell_type": "code",
   "execution_count": null,
   "id": "b1f8c2d8",
   "metadata": {},
   "outputs": [],
   "source": []
  }
 ],
 "metadata": {
  "kernelspec": {
   "display_name": "Python 3 (ipykernel)",
   "language": "python",
   "name": "python3"
  },
  "language_info": {
   "codemirror_mode": {
    "name": "ipython",
    "version": 3
   },
   "file_extension": ".py",
   "mimetype": "text/x-python",
   "name": "python",
   "nbconvert_exporter": "python",
   "pygments_lexer": "ipython3",
   "version": "3.9.7"
  }
 },
 "nbformat": 4,
 "nbformat_minor": 5
}
