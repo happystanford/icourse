{
 "cells": [
  {
   "cell_type": "code",
   "execution_count": 1,
   "id": "f67b7bbf",
   "metadata": {},
   "outputs": [],
   "source": [
    "import os, pickle\n",
    "\n",
    "import numpy as np\n",
    "from matplotlib import pyplot as plt\n",
    "import torch\n",
    "from torch import nn, optim\n",
    "from torch.utils.data import Dataset, DataLoader\n",
    "from transformers import BertModel, BertTokenizer\n",
    "from tqdm import tqdm\n",
    "from sklearn.manifold import TSNE"
   ]
  },
  {
   "cell_type": "code",
   "execution_count": 2,
   "id": "b27e7d4c",
   "metadata": {},
   "outputs": [
    {
     "data": {
      "text/plain": [
       "device(type='cuda')"
      ]
     },
     "execution_count": 2,
     "metadata": {},
     "output_type": "execute_result"
    }
   ],
   "source": [
    "pickle_file = 'all_cs_reviews.pickle'\n",
    "course = 229\n",
    "\n",
    "bert_to_be_used = 'bert-base-cased'\n",
    "n_sentiment_classes = 6\n",
    "batch_size = 16\n",
    "device = torch.device('cuda' if torch.cuda.is_available() else 'cpu')\n",
    "device"
   ]
  },
  {
   "cell_type": "code",
   "execution_count": 3,
   "id": "e90ee762",
   "metadata": {},
   "outputs": [
    {
     "data": {
      "text/plain": [
       "(array([  3.,   0.,  20.,   0., 951.,   0., 238.,   0.,  59.,   8.]),\n",
       " array([0. , 0.5, 1. , 1.5, 2. , 2.5, 3. , 3.5, 4. , 4.5, 5. ]),\n",
       " <BarContainer object of 10 artists>)"
      ]
     },
     "execution_count": 3,
     "metadata": {},
     "output_type": "execute_result"
    },
    {
     "data": {
      "image/png": "[encoded data removed]",
      "text/plain": [
       "<Figure size 1080x1080 with 1 Axes>"
      ]
     },
     "metadata": {
      "needs_background": "light"
     },
     "output_type": "display_data"
    }
   ],
   "source": [
    "fig, ax = plt.subplots(figsize=(15, 15))\n",
    "keywords = {\n",
    "    \"+ Difficulty\":[\"very difficult\", \n",
    "                  \"take a lot of time\",\n",
    "                  \"is a LOT of work\", \n",
    "                  \"very challenging\",\n",
    "                  \"start assignments early\", \n",
    "                  \"a lot of work\", \n",
    "                  \"time consuming\",\n",
    "                  \"extremely packed\", \n",
    "                  \"consumes a lot of time\", \n",
    "                  \"huge workload\",\n",
    "                  \"challenging\", \n",
    "                  \"difficult\", \n",
    "                  \"hard\", \n",
    "                  \"struggle\"],\n",
    "    \"- Difficulty\":[\"not too much work\", \n",
    "                     \"not too challenging\", \n",
    "                     \"not to hard\",\n",
    "                     \"easy class\",\n",
    "                     \"small workload\", \n",
    "                     \"chill class\", \n",
    "                     \"easy course\", \n",
    "                     \"light workload\",\n",
    "                     \"easy\"]}\n",
    "plus_one = set(keywords[\"+ Difficulty\"])\n",
    "minus_one = set(keywords[\"- Difficulty\"])\n",
    "\n",
    "with open(pickle_file, 'rb') as file:\n",
    "    reviews = pickle.load(file)\n",
    "    one_course = reviews[f'CS%20{course}']\n",
    "targets = np.zeros(len(one_course))\n",
    "for i, review in enumerate(one_course):\n",
    "    target = 0\n",
    "    for s in plus_one:\n",
    "        if s in review:\n",
    "            target += 1\n",
    "    for s in minus_one:\n",
    "        if s in review:\n",
    "            target -=1\n",
    "    targets[i] = target\n",
    "targets += np.abs(targets.min())\n",
    "plt.hist(targets)"
   ]
  },
  {
   "cell_type": "code",
   "execution_count": 4,
   "id": "d8e3c824",
   "metadata": {},
   "outputs": [
    {
     "name": "stderr",
     "output_type": "stream",
     "text": [
      "Some weights of the model checkpoint at bert-base-cased were not used when initializing BertModel: ['cls.predictions.transform.LayerNorm.weight', 'cls.predictions.transform.dense.weight', 'cls.predictions.transform.LayerNorm.bias', 'cls.seq_relationship.bias', 'cls.seq_relationship.weight', 'cls.predictions.bias', 'cls.predictions.transform.dense.bias', 'cls.predictions.decoder.weight']\n",
      "- This IS expected if you are initializing BertModel from the checkpoint of a model trained on another task or with another architecture (e.g. initializing a BertForSequenceClassification model from a BertForPreTraining model).\n",
      "- This IS NOT expected if you are initializing BertModel from the checkpoint of a model that you expect to be exactly identical (initializing a BertForSequenceClassification model from a BertForSequenceClassification model).\n"
     ]
    }
   ],
   "source": [
    "class ReviewDataset(Dataset):\n",
    "  def __init__(self, reviews, tokenizer, targets):\n",
    "    super().__init__()\n",
    "    self.reviews = reviews\n",
    "    self.tokenizer = tokenizer\n",
    "    self.targets = targets\n",
    "  def __len__(self):\n",
    "    return len(self.reviews)\n",
    "  def __getitem__(self, item):\n",
    "    return self.tokenizer.encode_plus(self.reviews[item],\n",
    "                                    add_special_tokens=True,\n",
    "                                    return_token_type_ids=False,\n",
    "                                    padding='max_length',\n",
    "                                    max_length = 512,\n",
    "                                    truncation=True,\n",
    "                                    return_attention_mask=True,\n",
    "                                    return_tensors='pt'), self.targets[item]\n",
    "\n",
    "class SentimentClassifier(nn.Module):\n",
    "  def __init__(self, bert_model, n_classes):\n",
    "    super().__init__()\n",
    "    self.bert = bert_model\n",
    "    self.linear = nn.Linear(self.bert.config.hidden_size, n_classes)\n",
    "\n",
    "  def forward(self, input_ids, attention_mask):\n",
    "    return self.linear(self.bert(input_ids=input_ids, attention_mask=attention_mask).pooler_output)\n",
    "\n",
    "data_loader = DataLoader(ReviewDataset(one_course, BertTokenizer.from_pretrained(bert_to_be_used), targets), batch_size=batch_size)\n",
    "bert_model = BertModel.from_pretrained(bert_to_be_used)\n",
    "Sentiment_model = SentimentClassifier(bert_model, n_sentiment_classes).to(device)"
   ]
  },
  {
   "cell_type": "code",
   "execution_count": 5,
   "id": "77fc2f74",
   "metadata": {
    "scrolled": true
   },
   "outputs": [],
   "source": [
    "def train(model, data_loader, review_size, loss_fn, optimizer, device):\n",
    "    model = model.train()  \n",
    "    losses, correct = list(), 0\n",
    "    \n",
    "    for data_batch in data_loader:\n",
    "        input_ids = data_batch[0]['input_ids'].squeeze(1).to(device)\n",
    "        attention_mask = data_batch[0]['attention_mask'].squeeze(1).to(device)\n",
    "        yhat = model(input_ids, attention_mask)\n",
    "        _, pred = yhat.max(dim=1)\n",
    "        y = data_batch[1].to(device, dtype=torch.long)\n",
    "        loss = loss_fn(yhat, y)\n",
    "        loss.backward()\n",
    "        losses.append(loss.detach().cpu())\n",
    "        optimizer.step()\n",
    "        optimizer.zero_grad()\n",
    "        correct += (y == pred).sum()\n",
    "    return losses, float(correct) / review_size\n",
    "\n",
    "def eval_model(model, data_loader, review_size, loss_fn, device):\n",
    "    model = model.eval()  \n",
    "    losses, correct = list(), 0\n",
    "    \n",
    "    with torch.no_grad():\n",
    "        for data_batch in data_loader:\n",
    "            input_ids = data_batch[0]['input_ids'].squeeze(1).to(device)\n",
    "            attention_mask = data_batch[0]['attention_mask'].squeeze(1).to(device)\n",
    "            yhat = model(input_ids, attention_mask)\n",
    "            y = data_batch[1].to(device, dtype=torch.long)\n",
    "            _, pred = yhat.max(dim=1)\n",
    "            correct += (y == pred).sum()\n",
    "    return float(correct) / review_size"
   ]
  },
  {
   "cell_type": "code",
   "execution_count": 6,
   "id": "cb31f584",
   "metadata": {},
   "outputs": [
    {
     "name": "stderr",
     "output_type": "stream",
     "text": [
      "100%|██████████| 10/10 [06:15<00:00, 37.50s/it]\n"
     ]
    },
    {
     "data": {
      "text/plain": [
       "[0.6348709929632526,\n",
       " 0.6145426114151681,\n",
       " 0.6286161063330727,\n",
       " 0.6270523846755277,\n",
       " 0.6669272869429241,\n",
       " 0.6559812353401094,\n",
       " 0.6317435496481626,\n",
       " 0.671618451915559,\n",
       " 0.6442533229085223,\n",
       " 0.6708365910867865]"
      ]
     },
     "execution_count": 6,
     "metadata": {},
     "output_type": "execute_result"
    }
   ],
   "source": [
    "EPOCHS = 10\n",
    "optimizer = optim.SGD(Sentiment_model.parameters(), lr=0.01, momentum=0.9)\n",
    "accuracies = list()\n",
    "for epoch in tqdm(range(EPOCHS)):\n",
    "    losses, accuracy = train(Sentiment_model, data_loader, len(one_course), nn.CrossEntropyLoss().to(device), optimizer, device)\n",
    "    accuracies.append(accuracy)\n",
    "accuracies"
   ]
  },
  {
   "cell_type": "code",
   "execution_count": 7,
   "id": "748453e6",
   "metadata": {},
   "outputs": [
    {
     "name": "stderr",
     "output_type": "stream",
     "text": [
      "100%|██████████| 80/80 [00:14<00:00,  5.57it/s]\n"
     ]
    }
   ],
   "source": [
    "outputs = None\n",
    "labels = None\n",
    "for data_batch in tqdm(data_loader):\n",
    "    input_ids = data_batch[0]['input_ids'].squeeze(1).to(device)\n",
    "    attention_mask = data_batch[0]['attention_mask'].squeeze(1).to(device)\n",
    "    output = bert_model(input_ids=input_ids, attention_mask=attention_mask).pooler_output.detach().cpu()\n",
    "    outputs = output if outputs is None else torch.cat((outputs, output), dim=0)\n",
    "\n",
    "    label = data_batch[1]\n",
    "    labels  = label if labels is None else torch.cat((labels, label), dim=0)\n",
    "outputs_2d = TSNE().fit_transform(outputs)"
   ]
  },
  {
   "cell_type": "code",
   "execution_count": 8,
   "id": "b59d7fbb",
   "metadata": {},
   "outputs": [
    {
     "data": {
      "image/png": "[encoded data removed]",
      "text/plain": [
       "<Figure size 1080x1080 with 1 Axes>"
      ]
     },
     "metadata": {
      "needs_background": "light"
     },
     "output_type": "display_data"
    }
   ],
   "source": [
    "fig, ax = plt.subplots(figsize=(15, 15))\n",
    "colors = ['r', 'g', 'b', 'k', 'y', 'purple']\n",
    "for t in range(0, 6):\n",
    "    if t != 2:\n",
    "        idx = np.where(labels == t)[0]\n",
    "        plt.scatter(outputs_2d[idx, 0], outputs_2d[idx, 1], color=colors[t])"
   ]
  }
 ],
 "metadata": {
  "kernelspec": {
   "display_name": "Python 3",
   "language": "python",
   "name": "python3"
  },
  "language_info": {
   "codemirror_mode": {
    "name": "ipython",
    "version": 3
   },
   "file_extension": ".py",
   "mimetype": "text/x-python",
   "name": "python",
   "nbconvert_exporter": "python",
   "pygments_lexer": "ipython3",
   "version": "3.6.9"
  }
 },
 "nbformat": 4,
 "nbformat_minor": 5
}
