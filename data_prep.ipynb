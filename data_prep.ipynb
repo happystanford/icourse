{
 "cells": [
  {
   "cell_type": "code",
   "execution_count": 40,
   "id": "e0421cb1",
   "metadata": {},
   "outputs": [],
   "source": [
    "import pandas as pd\n",
    "from tqdm import tqdm\n",
    "import matplotlib.pyplot as plt"
   ]
  },
  {
   "cell_type": "markdown",
   "id": "75e5bc74",
   "metadata": {},
   "source": [
    "# Read Data"
   ]
  },
  {
   "cell_type": "code",
   "execution_count": 11,
   "id": "b8f507bb",
   "metadata": {},
   "outputs": [
    {
     "name": "stdout",
     "output_type": "stream",
     "text": [
      "         Course                                            Comment Learning  \\\n",
      "0       CS%201C  It's a very chill class where you get to talk ...        0   \n",
      "1       CS%201C  It is a fun way to get to know dorm mates and ...        0   \n",
      "2       CS%201C  This course is not only a way for you to get t...        0   \n",
      "3       CS%201C  Fun and easy-going class. Taught by your fello...        0   \n",
      "4       CS%201C  This is a great class and you also learn a lot...        0   \n",
      "...         ...                                                ...      ...   \n",
      "29927  CS%20230  This class is a phenomenal introduction to dee...        0   \n",
      "29928  CS%20230  It's worth taking, especially if you want to g...        0   \n",
      "29929  CS%20230  It's an AMAZING course. You will learn a varie...        0   \n",
      "29930  CS%20230  Take one of the other deep learning courses in...        0   \n",
      "29931  CS%20230  very useful; should definitely take it if ther...        0   \n",
      "\n",
      "      Difficulty Instructor  \n",
      "0              0          0  \n",
      "1              0          0  \n",
      "2              0          0  \n",
      "3              0          0  \n",
      "4              0          0  \n",
      "...          ...        ...  \n",
      "29927          0          0  \n",
      "29928          0          0  \n",
      "29929          0          0  \n",
      "29930          0          0  \n",
      "29931          0          0  \n",
      "\n",
      "[29932 rows x 5 columns]\n"
     ]
    }
   ],
   "source": [
    "course_dict = pd.read_pickle('/Users/rafaelesteves/Downloads/all_cs_reviews.pickle')\n",
    "courses = course_dict.keys()\n",
    "course_df = pd.DataFrame(columns=\n",
    "                         [\"Course\", \"Comment\", \"Learning\", \n",
    "                          \"Difficulty\", \"Instructor\"] #, \"Term\", \"Instructor\"\n",
    "                        )\n",
    "idx = 0\n",
    "for course, comment_list in course_dict.items():\n",
    "    for curr_comment in comment_list:\n",
    "        curr_row = pd.DataFrame([[course, curr_comment, 0, 0, 0]],\n",
    "                                columns = [\"Course\", \"Comment\", \"Learning\", \n",
    "                                           \"Difficulty\", \"Instructor\"], #, \"Term\", \"Instructor\"\n",
    "                                index=[idx]\n",
    "                        )\n",
    "        course_df = course_df.append(curr_row)\n",
    "        idx += 1\n",
    "print(course_df)"
   ]
  },
  {
   "cell_type": "markdown",
   "id": "0480adfd",
   "metadata": {},
   "source": [
    "# Heuristic Label"
   ]
  },
  {
   "cell_type": "code",
   "execution_count": 33,
   "id": "e515b80a",
   "metadata": {},
   "outputs": [],
   "source": [
    "keywords = {\n",
    "#     \"fun\":[\"very fun\", \"very enjoyable\", \"super fun class\"],\n",
    "#     \"not fun\": [\"not fun at all\"],\n",
    "    \n",
    "    \n",
    "    \"+ Difficulty\":[\"very difficult\", \n",
    "                  \"take a lot of time\",\n",
    "                  \"is a LOT of work\", \n",
    "                  \"very challenging\",\n",
    "                  \"start assignments early\", \n",
    "                  \"a lot of work\", \n",
    "                  \"time consuming\",\n",
    "                  \"extremely packed\", \n",
    "                  \"consumes a lot of time\", \n",
    "                  \"huge workload\",\n",
    "                  \"challenging\", \n",
    "                  \"difficult\", \n",
    "                  \"hard\", \n",
    "                  \"struggle\"\n",
    "                 ],\n",
    "    \"- Difficulty\":[\"not too much work\", \n",
    "                     \"not too challenging\", \n",
    "                     \"not to hard\",\n",
    "                     \"easy class\",\n",
    "                     \"small workload\", \n",
    "                     \"chill class\", \n",
    "                     \"easy course\", \n",
    "                     \"light workload\",\n",
    "                     \"easy\"\n",
    "                    ],\n",
    "    \n",
    "    \n",
    "#     \"waste of time\":[\"waste of time\", \"not worth it\"],\n",
    "    \n",
    "    \n",
    "    \"+ Instructor\":[\"very supportive\", \n",
    "                  \"very well-taught\", \n",
    "                  \"really supported\", \n",
    "                  \"amazing instructor\", \n",
    "                  \"instructor was very knowledgable\", \n",
    "                  \"very well taught\", \n",
    "                  \"is a very good teacher\", \n",
    "                  \"very well-designed\",\n",
    "                  \"one of the best professors\", \n",
    "                  \"amazing professor\", \n",
    "                  \"the most knowledgeable\",\n",
    "                   \"not well taught\",\n",
    "                   ],\n",
    "    \"- Instructor\":[\"don't take it with\", \n",
    "                      \"the worst teacher\", \n",
    "                      \"learn on your own\", \n",
    "                      \"figure out on your own\", \n",
    "                      \"feels unorganized\",\n",
    "                        \"not well taught\",\n",
    "                   ],\n",
    "    \n",
    "    \n",
    "    \"+ Learning\":[\"useful assignments\", \n",
    "                \"learned a lot\",\n",
    "                \"learn a lot\", \n",
    "                \"learn important skills\", \n",
    "                \"extremely useful\",\n",
    "                \"very useful\" \n",
    "                \"a lot of work but worth it\", \n",
    "                \"assignments were useful\", \n",
    "                \"hands on\", \n",
    "                \"accomplished\", \n",
    "                \"accomplishment\", \n",
    "                \"foundation\", \n",
    "                \"learn\", \n",
    "                \"building block\", \n",
    "                \"helpful\", \n",
    "                \"covers\"\n",
    "               ],\n",
    "    \"- Learning\":[ \"only at a surface level\", \n",
    "                   \"shallow\", \n",
    "                   \"won't dive into much detail\", \n",
    "                   \"don't learn much\", \n",
    "                   \"introductory\", \n",
    "                   \"boring\",\n",
    "                  ],\n",
    "    \n",
    "    \n",
    "#     \"no background requirement\":[\"nice introduction\", \"nice introductory\", \"very approachable introduction\",\"very accessible\",\"good survey\", \"good intro class\", \"nice intro class\",\n",
    "#                              ],\n",
    "#     \"requires background\":[\"not an intro class\", \"not an introductory class\"],\n",
    "#     \"positive\":[\"take it\", \"would recommend\"],\n",
    "#     \"negative\":[\"don't take it\", \"wouldn't recommend\"]\n",
    "}"
   ]
  },
  {
   "cell_type": "code",
   "execution_count": 31,
   "id": "d9cf578d",
   "metadata": {},
   "outputs": [
    {
     "name": "stderr",
     "output_type": "stream",
     "text": [
      "100%|████████████████████████████████████| 29932/29932 [01:06<00:00, 447.17it/s]\n"
     ]
    },
    {
     "data": {
      "text/html": [
       "<div>\n",
       "<style scoped>\n",
       "    .dataframe tbody tr th:only-of-type {\n",
       "        vertical-align: middle;\n",
       "    }\n",
       "\n",
       "    .dataframe tbody tr th {\n",
       "        vertical-align: top;\n",
       "    }\n",
       "\n",
       "    .dataframe thead th {\n",
       "        text-align: right;\n",
       "    }\n",
       "</style>\n",
       "<table border=\"1\" class=\"dataframe\">\n",
       "  <thead>\n",
       "    <tr style=\"text-align: right;\">\n",
       "      <th></th>\n",
       "      <th>Course</th>\n",
       "      <th>Comment</th>\n",
       "      <th>Learning</th>\n",
       "      <th>Difficulty</th>\n",
       "      <th>Instructor</th>\n",
       "    </tr>\n",
       "  </thead>\n",
       "  <tbody>\n",
       "    <tr>\n",
       "      <th>0</th>\n",
       "      <td>CS%201C</td>\n",
       "      <td>It's a very chill class where you get to talk ...</td>\n",
       "      <td>1</td>\n",
       "      <td>-1</td>\n",
       "      <td>0</td>\n",
       "    </tr>\n",
       "    <tr>\n",
       "      <th>1</th>\n",
       "      <td>CS%201C</td>\n",
       "      <td>It is a fun way to get to know dorm mates and ...</td>\n",
       "      <td>1</td>\n",
       "      <td>0</td>\n",
       "      <td>0</td>\n",
       "    </tr>\n",
       "    <tr>\n",
       "      <th>2</th>\n",
       "      <td>CS%201C</td>\n",
       "      <td>This course is not only a way for you to get t...</td>\n",
       "      <td>0</td>\n",
       "      <td>0</td>\n",
       "      <td>0</td>\n",
       "    </tr>\n",
       "    <tr>\n",
       "      <th>3</th>\n",
       "      <td>CS%201C</td>\n",
       "      <td>Fun and easy-going class. Taught by your fello...</td>\n",
       "      <td>0</td>\n",
       "      <td>-1</td>\n",
       "      <td>0</td>\n",
       "    </tr>\n",
       "    <tr>\n",
       "      <th>4</th>\n",
       "      <td>CS%201C</td>\n",
       "      <td>This is a great class and you also learn a lot...</td>\n",
       "      <td>2</td>\n",
       "      <td>0</td>\n",
       "      <td>0</td>\n",
       "    </tr>\n",
       "    <tr>\n",
       "      <th>...</th>\n",
       "      <td>...</td>\n",
       "      <td>...</td>\n",
       "      <td>...</td>\n",
       "      <td>...</td>\n",
       "      <td>...</td>\n",
       "    </tr>\n",
       "    <tr>\n",
       "      <th>29927</th>\n",
       "      <td>CS%20230</td>\n",
       "      <td>This class is a phenomenal introduction to dee...</td>\n",
       "      <td>1</td>\n",
       "      <td>0</td>\n",
       "      <td>0</td>\n",
       "    </tr>\n",
       "    <tr>\n",
       "      <th>29928</th>\n",
       "      <td>CS%20230</td>\n",
       "      <td>It's worth taking, especially if you want to g...</td>\n",
       "      <td>1</td>\n",
       "      <td>0</td>\n",
       "      <td>0</td>\n",
       "    </tr>\n",
       "    <tr>\n",
       "      <th>29929</th>\n",
       "      <td>CS%20230</td>\n",
       "      <td>It's an AMAZING course. You will learn a varie...</td>\n",
       "      <td>1</td>\n",
       "      <td>0</td>\n",
       "      <td>0</td>\n",
       "    </tr>\n",
       "    <tr>\n",
       "      <th>29930</th>\n",
       "      <td>CS%20230</td>\n",
       "      <td>Take one of the other deep learning courses in...</td>\n",
       "      <td>1</td>\n",
       "      <td>0</td>\n",
       "      <td>0</td>\n",
       "    </tr>\n",
       "    <tr>\n",
       "      <th>29931</th>\n",
       "      <td>CS%20230</td>\n",
       "      <td>very useful; should definitely take it if ther...</td>\n",
       "      <td>1</td>\n",
       "      <td>0</td>\n",
       "      <td>0</td>\n",
       "    </tr>\n",
       "  </tbody>\n",
       "</table>\n",
       "<p>29932 rows × 5 columns</p>\n",
       "</div>"
      ],
      "text/plain": [
       "         Course                                            Comment Learning  \\\n",
       "0       CS%201C  It's a very chill class where you get to talk ...        1   \n",
       "1       CS%201C  It is a fun way to get to know dorm mates and ...        1   \n",
       "2       CS%201C  This course is not only a way for you to get t...        0   \n",
       "3       CS%201C  Fun and easy-going class. Taught by your fello...        0   \n",
       "4       CS%201C  This is a great class and you also learn a lot...        2   \n",
       "...         ...                                                ...      ...   \n",
       "29927  CS%20230  This class is a phenomenal introduction to dee...        1   \n",
       "29928  CS%20230  It's worth taking, especially if you want to g...        1   \n",
       "29929  CS%20230  It's an AMAZING course. You will learn a varie...        1   \n",
       "29930  CS%20230  Take one of the other deep learning courses in...        1   \n",
       "29931  CS%20230  very useful; should definitely take it if ther...        1   \n",
       "\n",
       "      Difficulty Instructor  \n",
       "0             -1          0  \n",
       "1              0          0  \n",
       "2              0          0  \n",
       "3             -1          0  \n",
       "4              0          0  \n",
       "...          ...        ...  \n",
       "29927          0          0  \n",
       "29928          0          0  \n",
       "29929          0          0  \n",
       "29930          0          0  \n",
       "29931          0          0  \n",
       "\n",
       "[29932 rows x 5 columns]"
      ]
     },
     "execution_count": 31,
     "metadata": {},
     "output_type": "execute_result"
    }
   ],
   "source": [
    "# Naive Loop Approach\n",
    "num_rows = course_df.shape[0]\n",
    "attributes = [\"Difficulty\", \"Instructor\", \"Learning\"]\n",
    "\n",
    "for idx in tqdm(range(num_rows)):\n",
    "    curr_row = course_df.iloc[idx]\n",
    "    curr_comment = curr_row[\"Comment\"]\n",
    "#     print(curr_comment)\n",
    "    for curr_attr in attributes:\n",
    "        attr = sum([1 if phrase in curr_comment else 0 for phrase in keywords[f\"+ {curr_attr}\"]]) \\\n",
    "            - sum([1 if phrase in curr_comment else 0 for phrase in keywords[f\"- {curr_attr}\"]])\n",
    "        curr_row[curr_attr] = attr\n",
    "#     print(course_df.iloc[idx], curr_row)\n",
    "    course_df.iloc[idx] = curr_row # maybe we can change row in place instead?\n",
    "course_df"
   ]
  },
  {
   "cell_type": "code",
   "execution_count": 56,
   "id": "937a25fd",
   "metadata": {},
   "outputs": [
    {
     "name": "stdout",
     "output_type": "stream",
     "text": [
      "Course                                                                                                                                                                                                       CS%20109\n",
      "Comment       This class is so hard but so rewarding. Chris Piech is an incredible lecturer and really makes the content feel relevant and interesting. The problem sets can be very difficult and time consuming,...\n",
      "Learning                                                                                                                                                                                                            0\n",
      "Difficulty                                                                                                                                                                                                          4\n",
      "Instructor                                                                                                                                                                                                          0\n",
      "Name: 25765, dtype: object\n"
     ]
    }
   ],
   "source": [
    "print(course_df.iloc[25765])"
   ]
  },
  {
   "cell_type": "code",
   "execution_count": 55,
   "id": "e50232c0",
   "metadata": {},
   "outputs": [
    {
     "name": "stderr",
     "output_type": "stream",
     "text": [
      "IOPub data rate exceeded.\n",
      "The notebook server will temporarily stop sending output\n",
      "to the client in order to avoid crashing it.\n",
      "To change this limit, set the config variable\n",
      "`--NotebookApp.iopub_data_rate_limit`.\n",
      "\n",
      "Current values:\n",
      "NotebookApp.iopub_data_rate_limit=1000000.0 (bytes/sec)\n",
      "NotebookApp.rate_limit_window=3.0 (secs)\n",
      "\n"
     ]
    }
   ],
   "source": [
    "print(course_df.loc[course_df[\"Difficulty\"]==0][\"Comment\"])"
   ]
  },
  {
   "cell_type": "code",
   "execution_count": 32,
   "id": "acdce323",
   "metadata": {},
   "outputs": [
    {
     "data": {
      "text/html": [
       "<div>\n",
       "<style scoped>\n",
       "    .dataframe tbody tr th:only-of-type {\n",
       "        vertical-align: middle;\n",
       "    }\n",
       "\n",
       "    .dataframe tbody tr th {\n",
       "        vertical-align: top;\n",
       "    }\n",
       "\n",
       "    .dataframe thead th {\n",
       "        text-align: right;\n",
       "    }\n",
       "</style>\n",
       "<table border=\"1\" class=\"dataframe\">\n",
       "  <thead>\n",
       "    <tr style=\"text-align: right;\">\n",
       "      <th></th>\n",
       "      <th>Course</th>\n",
       "      <th>Comment</th>\n",
       "      <th>Learning</th>\n",
       "      <th>Difficulty</th>\n",
       "      <th>Instructor</th>\n",
       "    </tr>\n",
       "  </thead>\n",
       "  <tbody>\n",
       "    <tr>\n",
       "      <th>9088</th>\n",
       "      <td>CS%20227B</td>\n",
       "      <td>Class is not well taught and you don't learn a...</td>\n",
       "      <td>1</td>\n",
       "      <td>-3</td>\n",
       "      <td>0</td>\n",
       "    </tr>\n",
       "    <tr>\n",
       "      <th>19325</th>\n",
       "      <td>CS%20157</td>\n",
       "      <td>It is a chill class, all the lessons needed to...</td>\n",
       "      <td>0</td>\n",
       "      <td>-3</td>\n",
       "      <td>0</td>\n",
       "    </tr>\n",
       "    <tr>\n",
       "      <th>6062</th>\n",
       "      <td>CS%20145</td>\n",
       "      <td>Fairly easy course that gives a light overview...</td>\n",
       "      <td>1</td>\n",
       "      <td>-2</td>\n",
       "      <td>0</td>\n",
       "    </tr>\n",
       "    <tr>\n",
       "      <th>1396</th>\n",
       "      <td>CS%20105</td>\n",
       "      <td>Regardless of coding experience, it's a very e...</td>\n",
       "      <td>0</td>\n",
       "      <td>-2</td>\n",
       "      <td>0</td>\n",
       "    </tr>\n",
       "    <tr>\n",
       "      <th>21887</th>\n",
       "      <td>CS%20255</td>\n",
       "      <td>If you're a Math major, then this will be an e...</td>\n",
       "      <td>0</td>\n",
       "      <td>-2</td>\n",
       "      <td>0</td>\n",
       "    </tr>\n",
       "    <tr>\n",
       "      <th>...</th>\n",
       "      <td>...</td>\n",
       "      <td>...</td>\n",
       "      <td>...</td>\n",
       "      <td>...</td>\n",
       "      <td>...</td>\n",
       "    </tr>\n",
       "    <tr>\n",
       "      <th>25765</th>\n",
       "      <td>CS%20109</td>\n",
       "      <td>This class is so hard but so rewarding. Chris ...</td>\n",
       "      <td>0</td>\n",
       "      <td>4</td>\n",
       "      <td>0</td>\n",
       "    </tr>\n",
       "    <tr>\n",
       "      <th>26037</th>\n",
       "      <td>CS%20110</td>\n",
       "      <td>It is a very challenging course and the homewo...</td>\n",
       "      <td>0</td>\n",
       "      <td>4</td>\n",
       "      <td>0</td>\n",
       "    </tr>\n",
       "    <tr>\n",
       "      <th>24431</th>\n",
       "      <td>CS%20103</td>\n",
       "      <td>Take it! But be sure to pay attention, work ha...</td>\n",
       "      <td>0</td>\n",
       "      <td>4</td>\n",
       "      <td>0</td>\n",
       "    </tr>\n",
       "    <tr>\n",
       "      <th>11884</th>\n",
       "      <td>CS%20238</td>\n",
       "      <td>The professor is super nice and very willing t...</td>\n",
       "      <td>0</td>\n",
       "      <td>4</td>\n",
       "      <td>0</td>\n",
       "    </tr>\n",
       "    <tr>\n",
       "      <th>28063</th>\n",
       "      <td>CS%20221</td>\n",
       "      <td>This was a really useful course, it's packed w...</td>\n",
       "      <td>2</td>\n",
       "      <td>4</td>\n",
       "      <td>0</td>\n",
       "    </tr>\n",
       "  </tbody>\n",
       "</table>\n",
       "<p>29932 rows × 5 columns</p>\n",
       "</div>"
      ],
      "text/plain": [
       "          Course                                            Comment Learning  \\\n",
       "9088   CS%20227B  Class is not well taught and you don't learn a...        1   \n",
       "19325   CS%20157  It is a chill class, all the lessons needed to...        0   \n",
       "6062    CS%20145  Fairly easy course that gives a light overview...        1   \n",
       "1396    CS%20105  Regardless of coding experience, it's a very e...        0   \n",
       "21887   CS%20255  If you're a Math major, then this will be an e...        0   \n",
       "...          ...                                                ...      ...   \n",
       "25765   CS%20109  This class is so hard but so rewarding. Chris ...        0   \n",
       "26037   CS%20110  It is a very challenging course and the homewo...        0   \n",
       "24431   CS%20103  Take it! But be sure to pay attention, work ha...        0   \n",
       "11884   CS%20238  The professor is super nice and very willing t...        0   \n",
       "28063   CS%20221  This was a really useful course, it's packed w...        2   \n",
       "\n",
       "      Difficulty Instructor  \n",
       "9088          -3          0  \n",
       "19325         -3          0  \n",
       "6062          -2          0  \n",
       "1396          -2          0  \n",
       "21887         -2          0  \n",
       "...          ...        ...  \n",
       "25765          4          0  \n",
       "26037          4          0  \n",
       "24431          4          0  \n",
       "11884          4          0  \n",
       "28063          4          0  \n",
       "\n",
       "[29932 rows x 5 columns]"
      ]
     },
     "execution_count": 32,
     "metadata": {},
     "output_type": "execute_result"
    }
   ],
   "source": [
    "course_df.sort_values(\"Difficulty\")"
   ]
  },
  {
   "cell_type": "code",
   "execution_count": 35,
   "id": "ad3cc749",
   "metadata": {},
   "outputs": [
    {
     "data": {
      "text/plain": [
       " 0    24074\n",
       " 1     4190\n",
       "-1      739\n",
       " 2      729\n",
       " 3      102\n",
       "-2       87\n",
       " 4        9\n",
       "-3        2\n",
       "Name: Difficulty, dtype: int64"
      ]
     },
     "execution_count": 35,
     "metadata": {},
     "output_type": "execute_result"
    }
   ],
   "source": [
    "course_df[\"Difficulty\"].value_counts()"
   ]
  },
  {
   "cell_type": "markdown",
   "id": "0c1a1a32",
   "metadata": {},
   "source": [
    "# Visualize Data"
   ]
  },
  {
   "cell_type": "code",
   "execution_count": 43,
   "id": "c855ab8a",
   "metadata": {},
   "outputs": [],
   "source": [
    "# Comment Attribute Visualization\n",
    "\n",
    "def plot_comment_attr(df, attribute):\n",
    "    count_series = df[attribute].value_counts()\n",
    "    count_map = count_series.to_dict()\n",
    "    \n",
    "    x = count_map.keys()\n",
    "    heights = count_map.values()\n",
    "    \n",
    "    plt.title(f\"{attribute} values\")\n",
    "    plt.bar(x, heights)\n",
    "    plt.show()"
   ]
  },
  {
   "cell_type": "code",
   "execution_count": 44,
   "id": "9bd9de54",
   "metadata": {},
   "outputs": [
    {
     "data": {
      "image/png": "[encoded data removed]",
      "text/plain": [
       "<Figure size 432x288 with 1 Axes>"
      ]
     },
     "metadata": {
      "needs_background": "light"
     },
     "output_type": "display_data"
    }
   ],
   "source": [
    "plot_comment_attr(course_df, \"Difficulty\")"
   ]
  },
  {
   "cell_type": "code",
   "execution_count": 46,
   "id": "1bff562d",
   "metadata": {},
   "outputs": [
    {
     "data": {
      "image/png": "[encoded data removed]",
      "text/plain": [
       "<Figure size 432x288 with 1 Axes>"
      ]
     },
     "metadata": {
      "needs_background": "light"
     },
     "output_type": "display_data"
    }
   ],
   "source": [
    "plot_comment_attr(course_df, \"Learning\")"
   ]
  },
  {
   "cell_type": "code",
   "execution_count": 45,
   "id": "59b1cc89",
   "metadata": {},
   "outputs": [
    {
     "data": {
      "image/png": "[encoded data removed]",
      "text/plain": [
       "<Figure size 432x288 with 1 Axes>"
      ]
     },
     "metadata": {
      "needs_background": "light"
     },
     "output_type": "display_data"
    }
   ],
   "source": [
    "plot_comment_attr(course_df, \"Instructor\")"
   ]
  },
  {
   "cell_type": "markdown",
   "id": "23832ea3",
   "metadata": {},
   "source": [
    "# Split Data"
   ]
  },
  {
   "cell_type": "markdown",
   "id": "952a7b98",
   "metadata": {},
   "source": [
    "# Train Bert"
   ]
  },
  {
   "cell_type": "markdown",
   "id": "53beeeed",
   "metadata": {},
   "source": [
    "# Infer"
   ]
  },
  {
   "cell_type": "code",
   "execution_count": null,
   "id": "206c95d4",
   "metadata": {},
   "outputs": [],
   "source": []
  }
 ],
 "metadata": {
  "kernelspec": {
   "display_name": "Python 3 (ipykernel)",
   "language": "python",
   "name": "python3"
  },
  "language_info": {
   "codemirror_mode": {
    "name": "ipython",
    "version": 3
   },
   "file_extension": ".py",
   "mimetype": "text/x-python",
   "name": "python",
   "nbconvert_exporter": "python",
   "pygments_lexer": "ipython3",
   "version": "3.9.7"
  }
 },
 "nbformat": 4,
 "nbformat_minor": 5
}
