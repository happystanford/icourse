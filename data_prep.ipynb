{
 "cells": [
  {
   "cell_type": "code",
   "execution_count": 1,
   "id": "infectious-costa",
   "metadata": {},
   "outputs": [],
   "source": [
    "import pandas as pd\n",
    "from tqdm import tqdm\n",
    "import matplotlib.pyplot as plt\n",
    "import copy\n",
    "\n",
    "import sklearn\n",
    "from sklearn.model_selection import StratifiedShuffleSplit, train_test_split\n",
    "import torch\n",
    "import torch.nn as nn\n",
    "\n",
    "from transformers import AutoTokenizer, AutoModel"
   ]
  },
  {
   "cell_type": "markdown",
   "id": "based-outside",
   "metadata": {},
   "source": [
    "# Read Data"
   ]
  },
  {
   "cell_type": "code",
   "execution_count": 2,
   "id": "quantitative-coalition",
   "metadata": {},
   "outputs": [
    {
     "ename": "ValueError",
     "evalue": "unsupported pickle protocol: 5",
     "output_type": "error",
     "traceback": [
      "\u001b[1;31m---------------------------------------------------------------------------\u001b[0m",
      "\u001b[1;31mValueError\u001b[0m                                Traceback (most recent call last)",
      "\u001b[1;32m<ipython-input-2-a02881c0710f>\u001b[0m in \u001b[0;36m<module>\u001b[1;34m\u001b[0m\n\u001b[1;32m----> 1\u001b[1;33m \u001b[0mcourse_dict\u001b[0m \u001b[1;33m=\u001b[0m \u001b[0mpd\u001b[0m\u001b[1;33m.\u001b[0m\u001b[0mread_pickle\u001b[0m\u001b[1;33m(\u001b[0m\u001b[1;34m'./review_data'\u001b[0m\u001b[1;33m)\u001b[0m\u001b[1;33m\u001b[0m\u001b[1;33m\u001b[0m\u001b[0m\n\u001b[0m\u001b[0;32m      2\u001b[0m \u001b[0mcourses\u001b[0m \u001b[1;33m=\u001b[0m \u001b[0mcourse_dict\u001b[0m\u001b[1;33m.\u001b[0m\u001b[0mkeys\u001b[0m\u001b[1;33m(\u001b[0m\u001b[1;33m)\u001b[0m\u001b[1;33m\u001b[0m\u001b[1;33m\u001b[0m\u001b[0m\n\u001b[0;32m      3\u001b[0m course_df = pd.DataFrame(columns=\n\u001b[0;32m      4\u001b[0m                          [\"Course\", \"Term\", \"Comment\", \"Learning\", \n\u001b[0;32m      5\u001b[0m                           \"Difficulty\", \"Instructor\", \"Instructor_Names\"]\n",
      "\u001b[1;32mC:\\Anaconda\\envs\\python\\lib\\site-packages\\pandas\\io\\pickle.py\u001b[0m in \u001b[0;36mread_pickle\u001b[1;34m(filepath_or_buffer, compression, storage_options)\u001b[0m\n\u001b[0;32m    215\u001b[0m                     \u001b[1;31m# RawIOBase, BufferedIOBase, TextIOBase, TextIOWrapper, mmap]\";\u001b[0m\u001b[1;33m\u001b[0m\u001b[1;33m\u001b[0m\u001b[1;33m\u001b[0m\u001b[0m\n\u001b[0;32m    216\u001b[0m                     \u001b[1;31m# expected \"IO[bytes]\"\u001b[0m\u001b[1;33m\u001b[0m\u001b[1;33m\u001b[0m\u001b[1;33m\u001b[0m\u001b[0m\n\u001b[1;32m--> 217\u001b[1;33m                     \u001b[1;32mreturn\u001b[0m \u001b[0mpickle\u001b[0m\u001b[1;33m.\u001b[0m\u001b[0mload\u001b[0m\u001b[1;33m(\u001b[0m\u001b[0mhandles\u001b[0m\u001b[1;33m.\u001b[0m\u001b[0mhandle\u001b[0m\u001b[1;33m)\u001b[0m  \u001b[1;31m# type: ignore[arg-type]\u001b[0m\u001b[1;33m\u001b[0m\u001b[1;33m\u001b[0m\u001b[0m\n\u001b[0m\u001b[0;32m    218\u001b[0m             \u001b[1;32mexcept\u001b[0m \u001b[0mexcs_to_catch\u001b[0m\u001b[1;33m:\u001b[0m\u001b[1;33m\u001b[0m\u001b[1;33m\u001b[0m\u001b[0m\n\u001b[0;32m    219\u001b[0m                 \u001b[1;31m# e.g.\u001b[0m\u001b[1;33m\u001b[0m\u001b[1;33m\u001b[0m\u001b[1;33m\u001b[0m\u001b[0m\n",
      "\u001b[1;31mValueError\u001b[0m: unsupported pickle protocol: 5"
     ]
    }
   ],
   "source": [
    "course_dict = pd.read_pickle('./review_data')\n",
    "courses = course_dict.keys()\n",
    "course_df = pd.DataFrame(columns=\n",
    "                         [\"Course\", \"Term\", \"Comment\", \"Learning\", \n",
    "                          \"Difficulty\", \"Instructor\", \"Instructor_Names\"]\n",
    "                        )\n",
    "idx = 0\n",
    "with tqdm(total=len(course_dict.keys())) as pbar:\n",
    "    for key, instructors_reviews in course_dict.items():\n",
    "        term, course = key\n",
    "        instructor_names = instructors_reviews[0]\n",
    "        comment_list = instructors_reviews[1]\n",
    "        for curr_comment in comment_list:\n",
    "    #         print(idx, curr_comment, type(curr_comment))\n",
    "            curr_row = pd.DataFrame([[course, term, curr_comment, 0, 0, 0, instructor_names]],\n",
    "                                    columns = [\"Course\", \"Term\", \"Comment\", \"Learning\", \n",
    "                                               \"Difficulty\", \"Instructor\", \"Instructor_Names\"],\n",
    "                                    index=[idx]\n",
    "                            )\n",
    "            course_df = course_df.append(curr_row)\n",
    "            idx += 1\n",
    "        pbar.update(1)\n",
    "print(course_df)"
   ]
  },
  {
   "cell_type": "markdown",
   "id": "vocal-travel",
   "metadata": {},
   "source": [
    "# Heuristic Label"
   ]
  },
  {
   "cell_type": "code",
   "execution_count": 24,
   "id": "leading-activation",
   "metadata": {},
   "outputs": [],
   "source": [
    "keywords = {\n",
    "#     \"fun\":[\"very fun\", \"very enjoyable\", \"super fun class\"],\n",
    "#     \"not fun\": [\"not fun at all\"],\n",
    "    \n",
    "    \n",
    "    \"+ Difficulty\":[\"very difficult\", \n",
    "                  \"take a lot of time\",\n",
    "                  \"is a LOT of work\", \n",
    "                  \"very challenging\",\n",
    "                  \"start assignments early\", \n",
    "                  \"a lot of work\", \n",
    "                  \"time consuming\",\n",
    "                  \"extremely packed\", \n",
    "                  \"consumes a lot of time\", \n",
    "                  \"huge workload\",\n",
    "                  \"challenging\", \n",
    "                  \"difficult\", \n",
    "                  \"hard\", \n",
    "                  \"struggle\"\n",
    "                 ],\n",
    "    \"- Difficulty\":[\"not too much work\", \n",
    "                     \"not too challenging\", \n",
    "                     \"not to hard\",\n",
    "                     \"easy class\",\n",
    "                     \"small workload\", \n",
    "                     \"chill class\", \n",
    "                     \"easy course\", \n",
    "                     \"light workload\",\n",
    "                     \"easy\"\n",
    "                    ],\n",
    "    \n",
    "    \n",
    "#     \"waste of time\":[\"waste of time\", \"not worth it\"],\n",
    "    \n",
    "    \n",
    "    \"+ Instructor\":[\"very supportive\", \n",
    "                  \"very well-taught\", \n",
    "                  \"really supported\", \n",
    "                  \"amazing instructor\", \n",
    "                  \"instructor was very knowledgable\", \n",
    "                  \"very well taught\", \n",
    "                  \"is a very good teacher\", \n",
    "                  \"very well-designed\",\n",
    "                  \"one of the best professors\", \n",
    "                  \"amazing professor\", \n",
    "                  \"the most knowledgeable\",\n",
    "                   \"not well taught\",\n",
    "                   ],\n",
    "    \"- Instructor\":[\"don't take it with\", \n",
    "                      \"the worst teacher\", \n",
    "                      \"learn on your own\", \n",
    "                      \"figure out on your own\", \n",
    "                      \"feels unorganized\",\n",
    "                        \"not well taught\",\n",
    "                   ],\n",
    "    \n",
    "    \n",
    "    \"+ Learning\":[\"useful assignments\", \n",
    "                \"learned a lot\",\n",
    "                \"learn a lot\", \n",
    "                \"learn important skills\", \n",
    "                \"extremely useful\",\n",
    "                \"very useful\" \n",
    "                \"a lot of work but worth it\", \n",
    "                \"assignments were useful\", \n",
    "                \"hands on\", \n",
    "                \"accomplished\", \n",
    "                \"accomplishment\", \n",
    "                \"foundation\", \n",
    "                \"learn\", \n",
    "                \"building block\", \n",
    "                \"helpful\", \n",
    "                \"covers\"\n",
    "               ],\n",
    "    \"- Learning\":[ \"only at a surface level\", \n",
    "                   \"shallow\", \n",
    "                   \"won't dive into much detail\", \n",
    "                   \"don't learn much\", \n",
    "                   \"introductory\", \n",
    "                   \"boring\",\n",
    "                  ],\n",
    "    \n",
    "    \n",
    "#     \"no background requirement\":[\"nice introduction\", \"nice introductory\", \"very approachable introduction\",\"very accessible\",\"good survey\", \"good intro class\", \"nice intro class\",\n",
    "#                              ],\n",
    "#     \"requires background\":[\"not an intro class\", \"not an introductory class\"],\n",
    "#     \"positive\":[\"take it\", \"would recommend\"],\n",
    "#     \"negative\":[\"don't take it\", \"wouldn't recommend\"]\n",
    "}"
   ]
  },
  {
   "cell_type": "code",
   "execution_count": 25,
   "id": "brilliant-understanding",
   "metadata": {},
   "outputs": [
    {
     "name": "stderr",
     "output_type": "stream",
     "text": [
      "  0%|                                                                                        | 0/22372 [00:00<?, ?it/s]<ipython-input-25-6a8a7b8f2d68>:12: SettingWithCopyWarning: \n",
      "A value is trying to be set on a copy of a slice from a DataFrame\n",
      "\n",
      "See the caveats in the documentation: https://pandas.pydata.org/pandas-docs/stable/user_guide/indexing.html#returning-a-view-versus-a-copy\n",
      "  curr_row[curr_attr] = attr\n",
      "100%|██████████████████████████████████████████████████████████████████████████| 22372/22372 [00:04<00:00, 5567.28it/s]\n"
     ]
    },
    {
     "data": {
      "text/html": [
       "<div>\n",
       "<style scoped>\n",
       "    .dataframe tbody tr th:only-of-type {\n",
       "        vertical-align: middle;\n",
       "    }\n",
       "\n",
       "    .dataframe tbody tr th {\n",
       "        vertical-align: top;\n",
       "    }\n",
       "\n",
       "    .dataframe thead th {\n",
       "        text-align: right;\n",
       "    }\n",
       "</style>\n",
       "<table border=\"1\" class=\"dataframe\">\n",
       "  <thead>\n",
       "    <tr style=\"text-align: right;\">\n",
       "      <th></th>\n",
       "      <th>Course</th>\n",
       "      <th>Term</th>\n",
       "      <th>Comment</th>\n",
       "      <th>Learning</th>\n",
       "      <th>Difficulty</th>\n",
       "      <th>Instructor</th>\n",
       "      <th>Instructor_Names</th>\n",
       "    </tr>\n",
       "  </thead>\n",
       "  <tbody>\n",
       "    <tr>\n",
       "      <th>0</th>\n",
       "      <td>CS352</td>\n",
       "      <td>Sp17</td>\n",
       "      <td>A nice and fun class with small time commitmen...</td>\n",
       "      <td>0</td>\n",
       "      <td>0</td>\n",
       "      <td>0</td>\n",
       "      <td>{OmerReingold}</td>\n",
       "    </tr>\n",
       "    <tr>\n",
       "      <th>1</th>\n",
       "      <td>CS352</td>\n",
       "      <td>Sp17</td>\n",
       "      <td>Its an interesting course on understanding how...</td>\n",
       "      <td>0</td>\n",
       "      <td>0</td>\n",
       "      <td>0</td>\n",
       "      <td>{OmerReingold}</td>\n",
       "    </tr>\n",
       "    <tr>\n",
       "      <th>2</th>\n",
       "      <td>CS352</td>\n",
       "      <td>Sp17</td>\n",
       "      <td>You need to have done well in CS 154 and in CS...</td>\n",
       "      <td>0</td>\n",
       "      <td>0</td>\n",
       "      <td>0</td>\n",
       "      <td>{OmerReingold}</td>\n",
       "    </tr>\n",
       "    <tr>\n",
       "      <th>3</th>\n",
       "      <td>CS352</td>\n",
       "      <td>Sp17</td>\n",
       "      <td>I would recommend taking CS265  and CS154 befo...</td>\n",
       "      <td>1</td>\n",
       "      <td>0</td>\n",
       "      <td>0</td>\n",
       "      <td>{OmerReingold}</td>\n",
       "    </tr>\n",
       "    <tr>\n",
       "      <th>4</th>\n",
       "      <td>CS352</td>\n",
       "      <td>Sp17</td>\n",
       "      <td>Take it!  The material in this course has been...</td>\n",
       "      <td>1</td>\n",
       "      <td>0</td>\n",
       "      <td>0</td>\n",
       "      <td>{OmerReingold}</td>\n",
       "    </tr>\n",
       "    <tr>\n",
       "      <th>...</th>\n",
       "      <td>...</td>\n",
       "      <td>...</td>\n",
       "      <td>...</td>\n",
       "      <td>...</td>\n",
       "      <td>...</td>\n",
       "      <td>...</td>\n",
       "      <td>...</td>\n",
       "    </tr>\n",
       "    <tr>\n",
       "      <th>22367</th>\n",
       "      <td>CS190</td>\n",
       "      <td>W19</td>\n",
       "      <td>Perhaps my favorite course at Stanford. Many o...</td>\n",
       "      <td>1</td>\n",
       "      <td>0</td>\n",
       "      <td>0</td>\n",
       "      <td>{JohnOusterhout}</td>\n",
       "    </tr>\n",
       "    <tr>\n",
       "      <th>22368</th>\n",
       "      <td>CS190</td>\n",
       "      <td>W19</td>\n",
       "      <td>Best CS class I've taken! John gives code revi...</td>\n",
       "      <td>1</td>\n",
       "      <td>0</td>\n",
       "      <td>0</td>\n",
       "      <td>{JohnOusterhout}</td>\n",
       "    </tr>\n",
       "    <tr>\n",
       "      <th>22369</th>\n",
       "      <td>CS190</td>\n",
       "      <td>W19</td>\n",
       "      <td>I would definitely recommend taking this cours...</td>\n",
       "      <td>0</td>\n",
       "      <td>0</td>\n",
       "      <td>0</td>\n",
       "      <td>{JohnOusterhout}</td>\n",
       "    </tr>\n",
       "    <tr>\n",
       "      <th>22370</th>\n",
       "      <td>CS190</td>\n",
       "      <td>W19</td>\n",
       "      <td>This is really more of a software engineering ...</td>\n",
       "      <td>0</td>\n",
       "      <td>0</td>\n",
       "      <td>0</td>\n",
       "      <td>{JohnOusterhout}</td>\n",
       "    </tr>\n",
       "    <tr>\n",
       "      <th>22371</th>\n",
       "      <td>CS190</td>\n",
       "      <td>W19</td>\n",
       "      <td>You won't find this material in any other clas...</td>\n",
       "      <td>1</td>\n",
       "      <td>0</td>\n",
       "      <td>0</td>\n",
       "      <td>{JohnOusterhout}</td>\n",
       "    </tr>\n",
       "  </tbody>\n",
       "</table>\n",
       "<p>22372 rows × 7 columns</p>\n",
       "</div>"
      ],
      "text/plain": [
       "      Course  Term                                            Comment  \\\n",
       "0      CS352  Sp17  A nice and fun class with small time commitmen...   \n",
       "1      CS352  Sp17  Its an interesting course on understanding how...   \n",
       "2      CS352  Sp17  You need to have done well in CS 154 and in CS...   \n",
       "3      CS352  Sp17  I would recommend taking CS265  and CS154 befo...   \n",
       "4      CS352  Sp17  Take it!  The material in this course has been...   \n",
       "...      ...   ...                                                ...   \n",
       "22367  CS190   W19  Perhaps my favorite course at Stanford. Many o...   \n",
       "22368  CS190   W19  Best CS class I've taken! John gives code revi...   \n",
       "22369  CS190   W19  I would definitely recommend taking this cours...   \n",
       "22370  CS190   W19  This is really more of a software engineering ...   \n",
       "22371  CS190   W19  You won't find this material in any other clas...   \n",
       "\n",
       "      Learning Difficulty Instructor  Instructor_Names  \n",
       "0            0          0          0    {OmerReingold}  \n",
       "1            0          0          0    {OmerReingold}  \n",
       "2            0          0          0    {OmerReingold}  \n",
       "3            1          0          0    {OmerReingold}  \n",
       "4            1          0          0    {OmerReingold}  \n",
       "...        ...        ...        ...               ...  \n",
       "22367        1          0          0  {JohnOusterhout}  \n",
       "22368        1          0          0  {JohnOusterhout}  \n",
       "22369        0          0          0  {JohnOusterhout}  \n",
       "22370        0          0          0  {JohnOusterhout}  \n",
       "22371        1          0          0  {JohnOusterhout}  \n",
       "\n",
       "[22372 rows x 7 columns]"
      ]
     },
     "execution_count": 25,
     "metadata": {},
     "output_type": "execute_result"
    }
   ],
   "source": [
    "# Naive Loop Approach\n",
    "num_rows = course_df.shape[0]\n",
    "attributes = [\"Difficulty\", \"Instructor\", \"Learning\"]\n",
    "\n",
    "for idx in tqdm(range(num_rows)):\n",
    "    curr_row = course_df.iloc[idx]\n",
    "    curr_comment = curr_row[\"Comment\"]\n",
    "#     print(curr_comment)\n",
    "    for curr_attr in attributes:\n",
    "        attr = sum([1 if phrase in curr_comment else 0 for phrase in keywords[f\"+ {curr_attr}\"]]) \\\n",
    "            - sum([1 if phrase in curr_comment else 0 for phrase in keywords[f\"- {curr_attr}\"]])\n",
    "        curr_row[curr_attr] = attr\n",
    "#     print(course_df.iloc[idx], curr_row)\n",
    "    course_df.iloc[idx] = curr_row # maybe we can change row in place instead?\n",
    "course_df"
   ]
  },
  {
   "cell_type": "code",
   "execution_count": 56,
   "id": "recognized-dependence",
   "metadata": {},
   "outputs": [
    {
     "name": "stdout",
     "output_type": "stream",
     "text": [
      "Course                                                                                                                                                                                                       CS%20109\n",
      "Comment       This class is so hard but so rewarding. Chris Piech is an incredible lecturer and really makes the content feel relevant and interesting. The problem sets can be very difficult and time consuming,...\n",
      "Learning                                                                                                                                                                                                            0\n",
      "Difficulty                                                                                                                                                                                                          4\n",
      "Instructor                                                                                                                                                                                                          0\n",
      "Name: 25765, dtype: object\n"
     ]
    }
   ],
   "source": [
    "print(course_df.iloc[25765])"
   ]
  },
  {
   "cell_type": "code",
   "execution_count": 55,
   "id": "effective-median",
   "metadata": {},
   "outputs": [
    {
     "name": "stderr",
     "output_type": "stream",
     "text": [
      "IOPub data rate exceeded.\n",
      "The notebook server will temporarily stop sending output\n",
      "to the client in order to avoid crashing it.\n",
      "To change this limit, set the config variable\n",
      "`--NotebookApp.iopub_data_rate_limit`.\n",
      "\n",
      "Current values:\n",
      "NotebookApp.iopub_data_rate_limit=1000000.0 (bytes/sec)\n",
      "NotebookApp.rate_limit_window=3.0 (secs)\n",
      "\n"
     ]
    }
   ],
   "source": [
    "print(course_df.loc[course_df[\"Difficulty\"]==0][\"Comment\"])"
   ]
  },
  {
   "cell_type": "code",
   "execution_count": 32,
   "id": "grand-marina",
   "metadata": {},
   "outputs": [
    {
     "data": {
      "text/html": [
       "<div>\n",
       "<style scoped>\n",
       "    .dataframe tbody tr th:only-of-type {\n",
       "        vertical-align: middle;\n",
       "    }\n",
       "\n",
       "    .dataframe tbody tr th {\n",
       "        vertical-align: top;\n",
       "    }\n",
       "\n",
       "    .dataframe thead th {\n",
       "        text-align: right;\n",
       "    }\n",
       "</style>\n",
       "<table border=\"1\" class=\"dataframe\">\n",
       "  <thead>\n",
       "    <tr style=\"text-align: right;\">\n",
       "      <th></th>\n",
       "      <th>Course</th>\n",
       "      <th>Comment</th>\n",
       "      <th>Learning</th>\n",
       "      <th>Difficulty</th>\n",
       "      <th>Instructor</th>\n",
       "    </tr>\n",
       "  </thead>\n",
       "  <tbody>\n",
       "    <tr>\n",
       "      <th>9088</th>\n",
       "      <td>CS%20227B</td>\n",
       "      <td>Class is not well taught and you don't learn a...</td>\n",
       "      <td>1</td>\n",
       "      <td>-3</td>\n",
       "      <td>0</td>\n",
       "    </tr>\n",
       "    <tr>\n",
       "      <th>19325</th>\n",
       "      <td>CS%20157</td>\n",
       "      <td>It is a chill class, all the lessons needed to...</td>\n",
       "      <td>0</td>\n",
       "      <td>-3</td>\n",
       "      <td>0</td>\n",
       "    </tr>\n",
       "    <tr>\n",
       "      <th>6062</th>\n",
       "      <td>CS%20145</td>\n",
       "      <td>Fairly easy course that gives a light overview...</td>\n",
       "      <td>1</td>\n",
       "      <td>-2</td>\n",
       "      <td>0</td>\n",
       "    </tr>\n",
       "    <tr>\n",
       "      <th>1396</th>\n",
       "      <td>CS%20105</td>\n",
       "      <td>Regardless of coding experience, it's a very e...</td>\n",
       "      <td>0</td>\n",
       "      <td>-2</td>\n",
       "      <td>0</td>\n",
       "    </tr>\n",
       "    <tr>\n",
       "      <th>21887</th>\n",
       "      <td>CS%20255</td>\n",
       "      <td>If you're a Math major, then this will be an e...</td>\n",
       "      <td>0</td>\n",
       "      <td>-2</td>\n",
       "      <td>0</td>\n",
       "    </tr>\n",
       "    <tr>\n",
       "      <th>...</th>\n",
       "      <td>...</td>\n",
       "      <td>...</td>\n",
       "      <td>...</td>\n",
       "      <td>...</td>\n",
       "      <td>...</td>\n",
       "    </tr>\n",
       "    <tr>\n",
       "      <th>25765</th>\n",
       "      <td>CS%20109</td>\n",
       "      <td>This class is so hard but so rewarding. Chris ...</td>\n",
       "      <td>0</td>\n",
       "      <td>4</td>\n",
       "      <td>0</td>\n",
       "    </tr>\n",
       "    <tr>\n",
       "      <th>26037</th>\n",
       "      <td>CS%20110</td>\n",
       "      <td>It is a very challenging course and the homewo...</td>\n",
       "      <td>0</td>\n",
       "      <td>4</td>\n",
       "      <td>0</td>\n",
       "    </tr>\n",
       "    <tr>\n",
       "      <th>24431</th>\n",
       "      <td>CS%20103</td>\n",
       "      <td>Take it! But be sure to pay attention, work ha...</td>\n",
       "      <td>0</td>\n",
       "      <td>4</td>\n",
       "      <td>0</td>\n",
       "    </tr>\n",
       "    <tr>\n",
       "      <th>11884</th>\n",
       "      <td>CS%20238</td>\n",
       "      <td>The professor is super nice and very willing t...</td>\n",
       "      <td>0</td>\n",
       "      <td>4</td>\n",
       "      <td>0</td>\n",
       "    </tr>\n",
       "    <tr>\n",
       "      <th>28063</th>\n",
       "      <td>CS%20221</td>\n",
       "      <td>This was a really useful course, it's packed w...</td>\n",
       "      <td>2</td>\n",
       "      <td>4</td>\n",
       "      <td>0</td>\n",
       "    </tr>\n",
       "  </tbody>\n",
       "</table>\n",
       "<p>29932 rows × 5 columns</p>\n",
       "</div>"
      ],
      "text/plain": [
       "          Course                                            Comment Learning  \\\n",
       "9088   CS%20227B  Class is not well taught and you don't learn a...        1   \n",
       "19325   CS%20157  It is a chill class, all the lessons needed to...        0   \n",
       "6062    CS%20145  Fairly easy course that gives a light overview...        1   \n",
       "1396    CS%20105  Regardless of coding experience, it's a very e...        0   \n",
       "21887   CS%20255  If you're a Math major, then this will be an e...        0   \n",
       "...          ...                                                ...      ...   \n",
       "25765   CS%20109  This class is so hard but so rewarding. Chris ...        0   \n",
       "26037   CS%20110  It is a very challenging course and the homewo...        0   \n",
       "24431   CS%20103  Take it! But be sure to pay attention, work ha...        0   \n",
       "11884   CS%20238  The professor is super nice and very willing t...        0   \n",
       "28063   CS%20221  This was a really useful course, it's packed w...        2   \n",
       "\n",
       "      Difficulty Instructor  \n",
       "9088          -3          0  \n",
       "19325         -3          0  \n",
       "6062          -2          0  \n",
       "1396          -2          0  \n",
       "21887         -2          0  \n",
       "...          ...        ...  \n",
       "25765          4          0  \n",
       "26037          4          0  \n",
       "24431          4          0  \n",
       "11884          4          0  \n",
       "28063          4          0  \n",
       "\n",
       "[29932 rows x 5 columns]"
      ]
     },
     "execution_count": 32,
     "metadata": {},
     "output_type": "execute_result"
    }
   ],
   "source": [
    "course_df.sort_values(\"Difficulty\")"
   ]
  },
  {
   "cell_type": "code",
   "execution_count": 26,
   "id": "important-smoke",
   "metadata": {},
   "outputs": [
    {
     "data": {
      "text/plain": [
       " 0    17635\n",
       " 1     3553\n",
       " 2      631\n",
       "-1      417\n",
       " 3       77\n",
       "-2       50\n",
       " 4        8\n",
       "-3        1\n",
       "Name: Difficulty, dtype: int64"
      ]
     },
     "execution_count": 26,
     "metadata": {},
     "output_type": "execute_result"
    }
   ],
   "source": [
    "course_df[\"Difficulty\"].value_counts()"
   ]
  },
  {
   "cell_type": "markdown",
   "id": "initial-springer",
   "metadata": {},
   "source": [
    "# Visualize Data"
   ]
  },
  {
   "cell_type": "code",
   "execution_count": 27,
   "id": "massive-location",
   "metadata": {},
   "outputs": [],
   "source": [
    "# Comment Attribute Visualization\n",
    "\n",
    "def plot_comment_attr(df, attribute):\n",
    "    count_series = df[attribute].value_counts()\n",
    "    count_map = count_series.to_dict()\n",
    "    \n",
    "    x = count_map.keys()\n",
    "    heights = count_map.values()\n",
    "    \n",
    "    plt.title(f\"{attribute} values\")\n",
    "    plt.bar(x, heights)\n",
    "    plt.show()"
   ]
  },
  {
   "cell_type": "code",
   "execution_count": 28,
   "id": "effective-knife",
   "metadata": {},
   "outputs": [
    {
     "data": {
      "image/png": "[encoded data removed]",
      "text/plain": [
       "<Figure size 432x288 with 1 Axes>"
      ]
     },
     "metadata": {
      "needs_background": "light"
     },
     "output_type": "display_data"
    }
   ],
   "source": [
    "plot_comment_attr(course_df, \"Difficulty\")"
   ]
  },
  {
   "cell_type": "code",
   "execution_count": 29,
   "id": "statistical-aluminum",
   "metadata": {},
   "outputs": [
    {
     "data": {
      "image/png": "[encoded data removed]",
      "text/plain": [
       "<Figure size 432x288 with 1 Axes>"
      ]
     },
     "metadata": {
      "needs_background": "light"
     },
     "output_type": "display_data"
    }
   ],
   "source": [
    "plot_comment_attr(course_df, \"Learning\")"
   ]
  },
  {
   "cell_type": "code",
   "execution_count": 30,
   "id": "extended-airport",
   "metadata": {},
   "outputs": [
    {
     "data": {
      "image/png": "[encoded data removed]",
      "text/plain": [
       "<Figure size 432x288 with 1 Axes>"
      ]
     },
     "metadata": {
      "needs_background": "light"
     },
     "output_type": "display_data"
    }
   ],
   "source": [
    "plot_comment_attr(course_df, \"Instructor\")"
   ]
  },
  {
   "cell_type": "markdown",
   "id": "abandoned-tiffany",
   "metadata": {},
   "source": [
    "# Split Data"
   ]
  },
  {
   "cell_type": "code",
   "execution_count": 2,
   "id": "adequate-mechanism",
   "metadata": {},
   "outputs": [
    {
     "ename": "NameError",
     "evalue": "name 'course_df' is not defined",
     "output_type": "error",
     "traceback": [
      "\u001b[1;31m---------------------------------------------------------------------------\u001b[0m",
      "\u001b[1;31mNameError\u001b[0m                                 Traceback (most recent call last)",
      "\u001b[1;32m<ipython-input-2-d4365d62f876>\u001b[0m in \u001b[0;36m<module>\u001b[1;34m\u001b[0m\n\u001b[1;32m----> 1\u001b[1;33m \u001b[0mcourse_features\u001b[0m \u001b[1;33m=\u001b[0m \u001b[0mcourse_df\u001b[0m\u001b[1;33m[\u001b[0m\u001b[1;34m\"Comments\"\u001b[0m\u001b[1;33m]\u001b[0m\u001b[1;33m\u001b[0m\u001b[1;33m\u001b[0m\u001b[0m\n\u001b[0m\u001b[0;32m      2\u001b[0m \u001b[0minstr_labels\u001b[0m \u001b[1;33m=\u001b[0m \u001b[0mcourse_df\u001b[0m\u001b[1;33m[\u001b[0m\u001b[1;34m\"Instructor\"\u001b[0m\u001b[1;33m]\u001b[0m\u001b[1;33m\u001b[0m\u001b[1;33m\u001b[0m\u001b[0m\n\u001b[0;32m      3\u001b[0m \u001b[0mdif_labels\u001b[0m \u001b[1;33m=\u001b[0m \u001b[0mcourse_df\u001b[0m\u001b[1;33m[\u001b[0m\u001b[1;34m\"Difficulty\"\u001b[0m\u001b[1;33m]\u001b[0m\u001b[1;33m\u001b[0m\u001b[1;33m\u001b[0m\u001b[0m\n\u001b[0;32m      4\u001b[0m \u001b[0mlearn_labels\u001b[0m \u001b[1;33m=\u001b[0m \u001b[0mcourse_df\u001b[0m\u001b[1;33m[\u001b[0m\u001b[1;34m\"Learning\"\u001b[0m\u001b[1;33m]\u001b[0m\u001b[1;33m\u001b[0m\u001b[1;33m\u001b[0m\u001b[0m\n\u001b[0;32m      5\u001b[0m \u001b[1;33m\u001b[0m\u001b[0m\n",
      "\u001b[1;31mNameError\u001b[0m: name 'course_df' is not defined"
     ]
    }
   ],
   "source": [
    "course_features = course_df[\"Comments\"]\n",
    "instr_labels = course_df[\"Instructor\"]\n",
    "dif_labels = course_df[\"Difficulty\"]\n",
    "learn_labels = course_df[\"Learning\"]\n",
    "\n",
    "# For every attribute, split data stratified by label\n",
    "instr_x_train, instr_x_test, instr_y_train, instr_y_test = train_test_split(course_features,\n",
    "                                                                            instr_labels,\n",
    "                                                                            test_size=0.1,\n",
    "                                                                            random_state=42)\n",
    "\n",
    "dif_x_train, dif_x_test, dif_y_train, dif_y_test = train_test_split(course_features,\n",
    "                                                                            dif_labels,\n",
    "                                                                            test_size=0.1,\n",
    "                                                                            random_state=42)\n",
    "\n",
    "learn_x_train, learn_x_test, learn_y_train, learn_y_test = train_test_split(course_features,\n",
    "                                                                            learn_labels,\n",
    "                                                                            test_size=0.1,\n",
    "                                                                            random_state=42)\n",
    "\n",
    "print(learn_x_train, learn_y_train)"
   ]
  },
  {
   "cell_type": "markdown",
   "id": "split-cancer",
   "metadata": {},
   "source": [
    "# Initialize Bert"
   ]
  },
  {
   "cell_type": "code",
   "execution_count": null,
   "id": "emerging-shore",
   "metadata": {},
   "outputs": [],
   "source": [
    "# Initializing a trained RoBERTa\n",
    "\n",
    "model = AutoModel.from_pretrained(\"roberta-base\")\n",
    "tokenizer = AutoTokenizer.from_pretrained(\"roberta-base\")\n",
    "optimizer = torch.optim.Adam(model.parameters(), lr=args.lr)"
   ]
  },
  {
   "cell_type": "markdown",
   "id": "consolidated-coverage",
   "metadata": {},
   "source": [
    "# Train Bert"
   ]
  },
  {
   "cell_type": "code",
   "execution_count": null,
   "id": "communist-league",
   "metadata": {},
   "outputs": [],
   "source": [
    "# Train Difficulty Model\n",
    "\n",
    "diff_classifier = pass\n",
    "for i in range(iters):  # tqdm\n",
    "    batch = input_sentences[i*20:(i+1)*20]\n",
    "    inputs = self.tokenizer(batch, return_tensors=\"pt\", padding='max_length', truncation=True, max_length=100)\n",
    "    \n",
    "    encoded = self.model(**inputs)"
   ]
  },
  {
   "cell_type": "markdown",
   "id": "annual-parking",
   "metadata": {},
   "source": [
    "# Infer"
   ]
  },
  {
   "cell_type": "code",
   "execution_count": null,
   "id": "together-sleep",
   "metadata": {},
   "outputs": [],
   "source": []
  }
 ],
 "metadata": {
  "kernelspec": {
   "display_name": "Python 3",
   "language": "python",
   "name": "python3"
  },
  "language_info": {
   "codemirror_mode": {
    "name": "ipython",
    "version": 3
   },
   "file_extension": ".py",
   "mimetype": "text/x-python",
   "name": "python",
   "nbconvert_exporter": "python",
   "pygments_lexer": "ipython3",
   "version": "3.6.9"
  }
 },
 "nbformat": 4,
 "nbformat_minor": 5
}
